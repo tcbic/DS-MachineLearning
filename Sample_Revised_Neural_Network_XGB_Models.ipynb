{
 "cells": [
  {
   "cell_type": "code",
   "execution_count": 3,
   "metadata": {
    "colab": {
     "base_uri": "https://localhost:8080/",
     "height": 34
    },
    "colab_type": "code",
    "id": "pcxEynIzRAOm",
    "outputId": "162c88c9-953b-4498-c218-a630536cb24b"
   },
   "outputs": [],
   "source": [
    "import numpy as np\n",
    "import pandas as pd\n",
    "from tensorflow.keras.wrappers.scikit_learn import KerasRegressor\n",
    "from sklearn.model_selection import GridSearchCV\n",
    "from tensorflow.keras.models import Sequential\n",
    "from tensorflow.keras.layers import Dense, Dropout\n",
    "\n",
    "from sklearn.metrics import mean_absolute_error "
   ]
  },
  {
   "cell_type": "code",
   "execution_count": 6,
   "metadata": {
    "colab": {
     "base_uri": "https://localhost:8080/",
     "height": 221
    },
    "colab_type": "code",
    "id": "0bSoxhNx7ZFr",
    "outputId": "03928636-9756-4e8a-f280-dd4f462f3dd8"
   },
   "outputs": [],
   "source": [
    "# Load the data.\n",
    "\n",
    "#train = pd.read_csv(\"train_2017.csv\")\n",
    "#test = pd.read_csv(\"test_2017.csv\")"
   ]
  },
  {
   "cell_type": "code",
   "execution_count": 10,
   "metadata": {},
   "outputs": [
    {
     "name": "stderr",
     "output_type": "stream",
     "text": [
      "/home/tcbic/anaconda3/envs/U4-S1-NLP/lib/python3.7/site-packages/IPython/core/interactiveshell.py:3057: DtypeWarning: Columns (49) have mixed types. Specify dtype option on import or set low_memory=False.\n",
      "  interactivity=interactivity, compiler=compiler, result=result)\n"
     ]
    }
   ],
   "source": [
    "# Load the data.\n",
    "\n",
    "prop_17 = pd.read_csv('properties_2017.csv')"
   ]
  },
  {
   "cell_type": "code",
   "execution_count": 11,
   "metadata": {},
   "outputs": [],
   "source": [
    "sub_prop_17 = prop_17[['bedroomcnt',\n",
    "                           'bathroomcnt', 'taxvaluedollarcnt', 'calculatedfinishedsquarefeet',\n",
    "                           'yearbuilt']]"
   ]
  },
  {
   "cell_type": "code",
   "execution_count": 12,
   "metadata": {},
   "outputs": [],
   "source": [
    "# Bedrooms\n",
    "\n",
    "sub_prop_17 = sub_prop_17[(sub_prop_17['bedroomcnt'] >= 1) & (sub_prop_17['bedroomcnt'] <= 8)]"
   ]
  },
  {
   "cell_type": "code",
   "execution_count": 13,
   "metadata": {},
   "outputs": [],
   "source": [
    "# Bathrooms\n",
    "\n",
    "sub_prop_17 = sub_prop_17[(sub_prop_17['bathroomcnt'] >= 1) & (sub_prop_17['bathroomcnt'] <= 6)]"
   ]
  },
  {
   "cell_type": "code",
   "execution_count": 14,
   "metadata": {},
   "outputs": [],
   "source": [
    "# Square feet\n",
    "\n",
    "sub_prop_17 = sub_prop_17[(sub_prop_17['calculatedfinishedsquarefeet'] >= 400) & (sub_prop_17['calculatedfinishedsquarefeet'] <= 10000)]"
   ]
  },
  {
   "cell_type": "code",
   "execution_count": 15,
   "metadata": {},
   "outputs": [],
   "source": [
    "# Year built\n",
    "\n",
    "sub_prop_17 = sub_prop_17[(sub_prop_17['yearbuilt'] >= 1900)]"
   ]
  },
  {
   "cell_type": "code",
   "execution_count": 16,
   "metadata": {},
   "outputs": [],
   "source": [
    "# Tax value\n",
    "\n",
    "sub_prop_17 = sub_prop_17[(sub_prop_17['taxvaluedollarcnt'] >= 20000) & (sub_prop_17['taxvaluedollarcnt'] <= 10000000)]"
   ]
  },
  {
   "cell_type": "code",
   "execution_count": 17,
   "metadata": {},
   "outputs": [
    {
     "data": {
      "text/plain": [
       "bedroomcnt                      0\n",
       "bathroomcnt                     0\n",
       "taxvaluedollarcnt               0\n",
       "calculatedfinishedsquarefeet    0\n",
       "yearbuilt                       0\n",
       "dtype: int64"
      ]
     },
     "execution_count": 17,
     "metadata": {},
     "output_type": "execute_result"
    }
   ],
   "source": [
    "# Check that there are no missing values.\n",
    "\n",
    "sub_prop_17.isnull().sum()"
   ]
  },
  {
   "cell_type": "code",
   "execution_count": 18,
   "metadata": {},
   "outputs": [
    {
     "data": {
      "text/html": [
       "<div>\n",
       "<style scoped>\n",
       "    .dataframe tbody tr th:only-of-type {\n",
       "        vertical-align: middle;\n",
       "    }\n",
       "\n",
       "    .dataframe tbody tr th {\n",
       "        vertical-align: top;\n",
       "    }\n",
       "\n",
       "    .dataframe thead th {\n",
       "        text-align: right;\n",
       "    }\n",
       "</style>\n",
       "<table border=\"1\" class=\"dataframe\">\n",
       "  <thead>\n",
       "    <tr style=\"text-align: right;\">\n",
       "      <th></th>\n",
       "      <th>bedroomcnt</th>\n",
       "      <th>bathroomcnt</th>\n",
       "      <th>taxvaluedollarcnt</th>\n",
       "      <th>calculatedfinishedsquarefeet</th>\n",
       "      <th>yearbuilt</th>\n",
       "    </tr>\n",
       "  </thead>\n",
       "  <tbody>\n",
       "    <tr>\n",
       "      <th>10</th>\n",
       "      <td>4.0</td>\n",
       "      <td>4.0</td>\n",
       "      <td>192544.0</td>\n",
       "      <td>3095.0</td>\n",
       "      <td>2016.0</td>\n",
       "    </tr>\n",
       "    <tr>\n",
       "      <th>20</th>\n",
       "      <td>4.0</td>\n",
       "      <td>2.0</td>\n",
       "      <td>296425.0</td>\n",
       "      <td>3633.0</td>\n",
       "      <td>2005.0</td>\n",
       "    </tr>\n",
       "    <tr>\n",
       "      <th>28</th>\n",
       "      <td>5.0</td>\n",
       "      <td>4.0</td>\n",
       "      <td>831224.0</td>\n",
       "      <td>2865.0</td>\n",
       "      <td>1972.0</td>\n",
       "    </tr>\n",
       "    <tr>\n",
       "      <th>30</th>\n",
       "      <td>2.0</td>\n",
       "      <td>2.0</td>\n",
       "      <td>357568.0</td>\n",
       "      <td>1090.0</td>\n",
       "      <td>2004.0</td>\n",
       "    </tr>\n",
       "    <tr>\n",
       "      <th>31</th>\n",
       "      <td>3.0</td>\n",
       "      <td>4.0</td>\n",
       "      <td>847770.0</td>\n",
       "      <td>1620.0</td>\n",
       "      <td>2011.0</td>\n",
       "    </tr>\n",
       "  </tbody>\n",
       "</table>\n",
       "</div>"
      ],
      "text/plain": [
       "    bedroomcnt  bathroomcnt  taxvaluedollarcnt  calculatedfinishedsquarefeet  \\\n",
       "10         4.0          4.0           192544.0                        3095.0   \n",
       "20         4.0          2.0           296425.0                        3633.0   \n",
       "28         5.0          4.0           831224.0                        2865.0   \n",
       "30         2.0          2.0           357568.0                        1090.0   \n",
       "31         3.0          4.0           847770.0                        1620.0   \n",
       "\n",
       "    yearbuilt  \n",
       "10     2016.0  \n",
       "20     2005.0  \n",
       "28     1972.0  \n",
       "30     2004.0  \n",
       "31     2011.0  "
      ]
     },
     "execution_count": 18,
     "metadata": {},
     "output_type": "execute_result"
    }
   ],
   "source": [
    "sub_prop_17.head()"
   ]
  },
  {
   "cell_type": "code",
   "execution_count": 19,
   "metadata": {},
   "outputs": [],
   "source": [
    "# Create a smaller random subset to help with model efficiency.\n",
    "\n",
    "samp_sub_prop_17 = sub_prop_17.sample(n=10000)"
   ]
  },
  {
   "cell_type": "code",
   "execution_count": 22,
   "metadata": {},
   "outputs": [
    {
     "data": {
      "text/plain": [
       "(10000, 5)"
      ]
     },
     "execution_count": 22,
     "metadata": {},
     "output_type": "execute_result"
    }
   ],
   "source": [
    "# Check the shape.\n",
    "\n",
    "samp_sub_prop_17.shape"
   ]
  },
  {
   "cell_type": "code",
   "execution_count": null,
   "metadata": {},
   "outputs": [],
   "source": [
    "# Train/Test split..."
   ]
  },
  {
   "cell_type": "code",
   "execution_count": 27,
   "metadata": {},
   "outputs": [],
   "source": [
    "# Define features and target.\n",
    "\n",
    "features = samp_sub_prop_17.drop(columns=['taxvaluedollarcnt']).values\n",
    "target = samp_sub_prop_17['taxvaluedollarcnt'].values"
   ]
  },
  {
   "cell_type": "code",
   "execution_count": 28,
   "metadata": {},
   "outputs": [],
   "source": [
    "from sklearn.model_selection import train_test_split"
   ]
  },
  {
   "cell_type": "code",
   "execution_count": 29,
   "metadata": {},
   "outputs": [],
   "source": [
    "# Split X into train and test.\n",
    "\n",
    "X_train, X_test, y_train, y_test = train_test_split(features, target, test_size=0.25, random_state=42)"
   ]
  },
  {
   "cell_type": "code",
   "execution_count": 30,
   "metadata": {},
   "outputs": [
    {
     "data": {
      "text/plain": [
       "((7500, 4), (2500, 4), (7500,), (2500,))"
      ]
     },
     "execution_count": 30,
     "metadata": {},
     "output_type": "execute_result"
    }
   ],
   "source": [
    "# Check the shape.\n",
    "\n",
    "X_train.shape, X_test.shape, y_train.shape, y_test.shape"
   ]
  },
  {
   "cell_type": "code",
   "execution_count": 36,
   "metadata": {},
   "outputs": [
    {
     "name": "stdout",
     "output_type": "stream",
     "text": [
      "Collecting xgboost\n",
      "  Using cached https://files.pythonhosted.org/packages/c1/24/5fe7237b2eca13ee0cfb100bec8c23f4e69ce9df852a64b0493d49dae4e0/xgboost-0.90-py2.py3-none-manylinux1_x86_64.whl\n",
      "Requirement already satisfied: numpy in /home/tcbic/anaconda3/envs/U4-S1-NLP/lib/python3.7/site-packages (from xgboost) (1.16.4)\n",
      "Requirement already satisfied: scipy in /home/tcbic/anaconda3/envs/U4-S1-NLP/lib/python3.7/site-packages (from xgboost) (1.3.0)\n",
      "Installing collected packages: xgboost\n",
      "Successfully installed xgboost-0.90\n"
     ]
    }
   ],
   "source": [
    "# XGBRegressor Model\n",
    "\n",
    "import sys\n",
    "!{sys.executable} -m pip install xgboost"
   ]
  },
  {
   "cell_type": "code",
   "execution_count": 37,
   "metadata": {},
   "outputs": [],
   "source": [
    "import xgboost"
   ]
  },
  {
   "cell_type": "code",
   "execution_count": 38,
   "metadata": {},
   "outputs": [],
   "source": [
    "from xgboost import XGBRegressor"
   ]
  },
  {
   "cell_type": "code",
   "execution_count": 39,
   "metadata": {},
   "outputs": [],
   "source": [
    "model2 = XGBRegressor()"
   ]
  },
  {
   "cell_type": "code",
   "execution_count": 40,
   "metadata": {},
   "outputs": [
    {
     "name": "stdout",
     "output_type": "stream",
     "text": [
      "[20:35:51] WARNING: /workspace/src/objective/regression_obj.cu:152: reg:linear is now deprecated in favor of reg:squarederror.\n"
     ]
    },
    {
     "data": {
      "text/plain": [
       "XGBRegressor(base_score=0.5, booster='gbtree', colsample_bylevel=1,\n",
       "             colsample_bynode=1, colsample_bytree=1, gamma=0,\n",
       "             importance_type='gain', learning_rate=0.1, max_delta_step=0,\n",
       "             max_depth=3, min_child_weight=1, missing=None, n_estimators=100,\n",
       "             n_jobs=1, nthread=None, objective='reg:linear', random_state=0,\n",
       "             reg_alpha=0, reg_lambda=1, scale_pos_weight=1, seed=None,\n",
       "             silent=None, subsample=1, verbosity=1)"
      ]
     },
     "execution_count": 40,
     "metadata": {},
     "output_type": "execute_result"
    }
   ],
   "source": [
    "model2.fit(X_train, y_train)"
   ]
  },
  {
   "cell_type": "code",
   "execution_count": 42,
   "metadata": {},
   "outputs": [],
   "source": [
    "y_pred2 = model2.predict(X_test)"
   ]
  },
  {
   "cell_type": "code",
   "execution_count": 43,
   "metadata": {},
   "outputs": [
    {
     "data": {
      "text/plain": [
       "195040.0617625"
      ]
     },
     "execution_count": 43,
     "metadata": {},
     "output_type": "execute_result"
    }
   ],
   "source": [
    "mean_absolute_error(y_test, y_pred2)"
   ]
  },
  {
   "cell_type": "code",
   "execution_count": null,
   "metadata": {},
   "outputs": [],
   "source": [
    "# Neural Network Model"
   ]
  },
  {
   "cell_type": "code",
   "execution_count": 31,
   "metadata": {
    "colab": {
     "base_uri": "https://localhost:8080/",
     "height": 255
    },
    "colab_type": "code",
    "id": "gNbou5w5RLxM",
    "outputId": "126c9b35-6c16-4133-8f47-55e82f992c31"
   },
   "outputs": [
    {
     "name": "stdout",
     "output_type": "stream",
     "text": [
      "WARNING:tensorflow:From /home/tcbic/anaconda3/envs/U4-S1-NLP/lib/python3.7/site-packages/tensorflow/python/ops/init_ops.py:1251: calling VarianceScaling.__init__ (from tensorflow.python.ops.init_ops) with dtype is deprecated and will be removed in a future version.\n",
      "Instructions for updating:\n",
      "Call initializer instance with the dtype argument instead of passing it to the constructor\n",
      "Model: \"sequential\"\n",
      "_________________________________________________________________\n",
      "Layer (type)                 Output Shape              Param #   \n",
      "=================================================================\n",
      "dense (Dense)                (None, 32)                160       \n",
      "_________________________________________________________________\n",
      "dense_1 (Dense)              (None, 32)                1056      \n",
      "_________________________________________________________________\n",
      "dense_2 (Dense)              (None, 1)                 33        \n",
      "=================================================================\n",
      "Total params: 1,249\n",
      "Trainable params: 1,249\n",
      "Non-trainable params: 0\n",
      "_________________________________________________________________\n"
     ]
    }
   ],
   "source": [
    "nnmodel = Sequential()\n",
    "# Input => Hidden\n",
    "nnmodel.add(Dense(32, input_dim=4, activation='relu'))\n",
    "# Hidden\n",
    "nnmodel.add(Dense(32, activation='relu'))\n",
    "#nnmodel.add(Dense(32, activation='relu'))\n",
    "#nnmodel.add(Dense(32, activation='relu'))\n",
    "# Output Layer\n",
    "nnmodel.add(Dense(1, activation='linear'))\n",
    "\n",
    "# Compile\n",
    "nnmodel.compile(loss='mean_absolute_error',\n",
    "                    optimizer='adam',\n",
    "                    metrics=['mean_absolute_error'])\n",
    "\n",
    "nnmodel.summary()"
   ]
  },
  {
   "cell_type": "code",
   "execution_count": 32,
   "metadata": {
    "colab": {
     "base_uri": "https://localhost:8080/",
     "height": 392
    },
    "colab_type": "code",
    "id": "T0NZCyb6RP6F",
    "outputId": "461bbebb-4a33-4e32-e659-9d8822e349cb"
   },
   "outputs": [
    {
     "name": "stdout",
     "output_type": "stream",
     "text": [
      "Train on 5250 samples, validate on 2250 samples\n",
      "Epoch 1/10\n",
      "5250/5250 [==============================] - 1s 168us/sample - loss: 408581.3096 - mean_absolute_error: 408581.3125 - val_loss: 388601.7759 - val_mean_absolute_error: 388601.6875\n",
      "Epoch 2/10\n",
      "5250/5250 [==============================] - 1s 137us/sample - loss: 296436.7915 - mean_absolute_error: 296436.7500 - val_loss: 233608.8138 - val_mean_absolute_error: 233608.8438\n",
      "Epoch 3/10\n",
      "5250/5250 [==============================] - 1s 136us/sample - loss: 212821.0311 - mean_absolute_error: 212820.9688 - val_loss: 220870.0031 - val_mean_absolute_error: 220870.0312\n",
      "Epoch 4/10\n",
      "5250/5250 [==============================] - 1s 120us/sample - loss: 210403.7907 - mean_absolute_error: 210403.6875 - val_loss: 219479.5275 - val_mean_absolute_error: 219479.5469\n",
      "Epoch 5/10\n",
      "5250/5250 [==============================] - 1s 174us/sample - loss: 209197.5929 - mean_absolute_error: 209197.6406 - val_loss: 218207.5418 - val_mean_absolute_error: 218207.5000\n",
      "Epoch 6/10\n",
      "5250/5250 [==============================] - ETA: 0s - loss: 208081.1583 - mean_absolute_error: 208081.187 - 1s 158us/sample - loss: 207851.7110 - mean_absolute_error: 207851.7188 - val_loss: 217471.2666 - val_mean_absolute_error: 217471.2969\n",
      "Epoch 7/10\n",
      "5250/5250 [==============================] - 1s 159us/sample - loss: 206943.3904 - mean_absolute_error: 206943.3750 - val_loss: 215981.0165 - val_mean_absolute_error: 215980.9844\n",
      "Epoch 8/10\n",
      "5250/5250 [==============================] - ETA: 0s - loss: 205634.3621 - mean_absolute_error: 205634.375 - 1s 161us/sample - loss: 205836.1789 - mean_absolute_error: 205836.1875 - val_loss: 214911.4011 - val_mean_absolute_error: 214911.4219\n",
      "Epoch 9/10\n",
      "5250/5250 [==============================] - 1s 106us/sample - loss: 204762.6290 - mean_absolute_error: 204762.5938 - val_loss: 213960.7505 - val_mean_absolute_error: 213960.7188\n",
      "Epoch 10/10\n",
      "5250/5250 [==============================] - 1s 125us/sample - loss: 203791.5576 - mean_absolute_error: 203791.6250 - val_loss: 213199.2531 - val_mean_absolute_error: 213199.2500\n",
      "2500/2500 [==============================] - 0s 37us/sample - loss: 202569.3309 - mean_absolute_error: 202569.3594\n",
      "mean_absolute_error: 20256935.9375\n"
     ]
    }
   ],
   "source": [
    "nnmodel.fit(X_train, y_train, epochs=10, batch_size=32, validation_split=.3, verbose=1)\n",
    "scores = nnmodel.evaluate(X_test, y_test)\n",
    "print(f'{nnmodel.metrics_names[1]}: {scores[1]*100}')"
   ]
  },
  {
   "cell_type": "code",
   "execution_count": null,
   "metadata": {},
   "outputs": [],
   "source": [
    "# Function to create model.\n",
    "\n",
    "def create_model():\n",
    "    # create model\n",
    "    nnmodel = Sequential()\n",
    "    # Input => Hidden\n",
    "    nnmodel.add(Dense(32, input_dim=4, activation='relu'))\n",
    "    # Hidden\n",
    "    nnmodel.add(Dense(32, activation='relu'))\n",
    "    nnmodel.add(Dense(32, activation='relu'))\n",
    "    nnmodel.add(Dense(32, activation='relu'))\n",
    "    # Output Layer\n",
    "    nnmodel.add(Dense(1, activation='linear'))\n",
    "\n",
    "    # Compile\n",
    "    nnmodel.compile(loss='mean_absolute_error',\n",
    "                    optimizer='adam',\n",
    "                    metrics=['mean_absolute_error'])\n",
    "    return model\n",
    "  \n",
    "model = KerasRegressor(build_fn=create_model, verbose=1)\n",
    "\n",
    "# define the grid search parameters\n",
    "param_grid = {'batch_size': [10, 20, 40, 60, 80, 100],\n",
    "              'epochs': [10,20,40,60,80]}\n",
    "\n",
    "# Create Grid Search...\n",
    "grid = GridSearchCV(estimator=model, param_grid=param_grid, n_jobs=5)\n",
    "grid_result = grid.fit(X_train, y_train)\n",
    "\n",
    "# Report Results...\n",
    "print(f\"Best: {grid_result.best_score_} using {grid_result.best_params_}\")\n",
    "means = grid_result.cv_results_['mean_test_score']\n",
    "stds = grid_result.cv_results_['std_test_score']\n",
    "params = grid_result.cv_results_['params']\n",
    "for mean, stdev, param in zip(means, stds, params):\n",
    "    print(f\"Means: {mean}, Stdev: {stdev} with: {param}\")"
   ]
  },
  {
   "cell_type": "code",
   "execution_count": 34,
   "metadata": {
    "colab": {},
    "colab_type": "code",
    "id": "w8WinkXiRP-d"
   },
   "outputs": [],
   "source": [
    "def baseline_model(optimizer='adam'):\n",
    "    # create model\n",
    "    model = Sequential()\n",
    "    model.add(Dense(32, activation='relu', \n",
    "                    kernel_regularizer = 'l2', \n",
    "                    kernel_initializer = 'normal', \n",
    "                    input_shape=(4,)))\n",
    "   # model.add(BatchNormalization())\n",
    "    model.add(Dropout(0.5))\n",
    "    model.add(Dense(32, activation='relu', \n",
    "                    kernel_regularizer = 'l2',\n",
    "                    kernel_initializer = 'normal'))\n",
    "    #model.add(BatchNormalization())\n",
    "    model.add(Dropout(0.5))\n",
    "    model.add(Dense(1, activation='linear',\n",
    "                    kernel_regularizer = 'l2', \n",
    "                    kernel_initializer='normal'))\n",
    "    model.compile(loss='mean_absolute_error', optimizer=optimizer, metrics=['mean_absolute_error'])\n",
    "    return model\n",
    "\n",
    "def gridSearch_neural_network(X_train, y_train):\n",
    "    \n",
    "    print(\"Train Data:\", X_train.shape)\n",
    "    print(\"Train label:\", y_train.shape)\n",
    "    # evaluate model with standardized dataset\n",
    "    estimator = KerasRegressor(build_fn=baseline_model, nb_epoch=10, batch_size=5, verbose=1)\n",
    "    \n",
    "    # grid search epochs, batch size and optimizer\n",
    "    optimizers = ['rmsprop', 'adam']\n",
    "    #dropout_rate = [0.0, 0.1, 0.2, 0.3, 0.4, 0.5, 0.6, 0.7, 0.8, 0.9]\n",
    "    init = ['glorot_uniform', 'normal', 'uniform']\n",
    "    epochs = [50, 100, 150]\n",
    "    batches = [5, 10, 20]\n",
    "    weight_constraint = [1, 2, 3, 4, 5]\n",
    "    param_grid = dict(optimizer=optimizers, \n",
    "                      #dropout_rate=dropout_rate, \n",
    "                      epochs=epochs, \n",
    "                      batch_size=batches, \n",
    "                      #weight_constraint=weight_constraint, \n",
    "                      #init=init\n",
    "                     )\n",
    "    \n",
    "    grid = GridSearchCV(estimator=estimator, param_grid=param_grid)\n",
    "    grid_result = grid.fit(X_train, y_train)\n",
    "    # summarize results\n",
    "    print(\"Best: %f using %s\" % (grid_result.best_score_, grid_result.best_params_))\n",
    "    means = grid_result.cv_results_['mean_test_score']\n",
    "    stds = grid_result.cv_results_['std_test_score']\n",
    "    params = grid_result.cv_results_['params']\n",
    "    for mean, stdev, param in zip(means, stds, params):\n",
    "        print(\"%f (%f) with: %r\" % (mean, stdev, param))"
   ]
  },
  {
   "cell_type": "code",
   "execution_count": 35,
   "metadata": {},
   "outputs": [
    {
     "name": "stdout",
     "output_type": "stream",
     "text": [
      "Train Data: (7500, 4)\n",
      "Train label: (7500,)\n",
      "WARNING:tensorflow:From /home/tcbic/anaconda3/envs/U4-S1-NLP/lib/python3.7/site-packages/tensorflow/python/keras/initializers.py:143: calling RandomNormal.__init__ (from tensorflow.python.ops.init_ops) with dtype is deprecated and will be removed in a future version.\n",
      "Instructions for updating:\n",
      "Call initializer instance with the dtype argument instead of passing it to the constructor\n",
      "Epoch 1/50\n",
      "5000/5000 [==============================] - 5s 956us/sample - loss: 307804.5098 - mean_absolute_error: 307803.6250\n",
      "Epoch 2/50\n",
      "5000/5000 [==============================] - 4s 822us/sample - loss: 229986.6588 - mean_absolute_error: 229984.8906\n",
      "Epoch 3/50\n",
      "5000/5000 [==============================] - 4s 825us/sample - loss: 228103.8725 - mean_absolute_error: 228102.1250\n",
      "Epoch 4/50\n",
      "5000/5000 [==============================] - 4s 837us/sample - loss: 226945.7213 - mean_absolute_error: 226944.0000\n",
      "Epoch 5/50\n",
      "5000/5000 [==============================] - 6s 1ms/sample - loss: 222459.9048 - mean_absolute_error: 222458.0938\n",
      "Epoch 6/50\n",
      "5000/5000 [==============================] - 3s 691us/sample - loss: 223546.4188 - mean_absolute_error: 223544.5781\n",
      "Epoch 7/50\n",
      "5000/5000 [==============================] - 4s 888us/sample - loss: 222177.6879 - mean_absolute_error: 222175.6875\n",
      "Epoch 8/50\n",
      "5000/5000 [==============================] - 4s 825us/sample - loss: 222644.5025 - mean_absolute_error: 222642.5312\n",
      "Epoch 9/50\n",
      "5000/5000 [==============================] - 5s 1ms/sample - loss: 221175.5291 - mean_absolute_error: 221173.5000\n",
      "Epoch 10/50\n",
      "5000/5000 [==============================] - 5s 978us/sample - loss: 223588.7874 - mean_absolute_error: 223586.7188\n",
      "Epoch 11/50\n",
      "5000/5000 [==============================] - 4s 853us/sample - loss: 220009.1972 - mean_absolute_error: 220007.0625\n",
      "Epoch 12/50\n",
      "5000/5000 [==============================] - 5s 1ms/sample - loss: 220226.6438 - mean_absolute_error: 220224.5625\n",
      "Epoch 13/50\n",
      "5000/5000 [==============================] - 3s 606us/sample - loss: 220925.5066 - mean_absolute_error: 220923.5469\n",
      "Epoch 14/50\n",
      "5000/5000 [==============================] - 3s 626us/sample - loss: 219185.8893 - mean_absolute_error: 219183.7969\n",
      "Epoch 15/50\n",
      "5000/5000 [==============================] - 3s 608us/sample - loss: 219670.8842 - mean_absolute_error: 219668.6562\n",
      "Epoch 16/50\n",
      "5000/5000 [==============================] - 4s 719us/sample - loss: 219941.7256 - mean_absolute_error: 219939.6875\n",
      "Epoch 17/50\n",
      "5000/5000 [==============================] - 4s 700us/sample - loss: 219514.3038 - mean_absolute_error: 219512.0938\n",
      "Epoch 18/50\n",
      "5000/5000 [==============================] - 3s 635us/sample - loss: 220305.9449 - mean_absolute_error: 220303.8438\n",
      "Epoch 19/50\n",
      "5000/5000 [==============================] - 3s 598us/sample - loss: 221832.2358 - mean_absolute_error: 221830.0938\n",
      "Epoch 20/50\n",
      "5000/5000 [==============================] - 3s 659us/sample - loss: 217440.7589 - mean_absolute_error: 217438.5938\n",
      "Epoch 21/50\n",
      "5000/5000 [==============================] - 4s 725us/sample - loss: 218791.0280 - mean_absolute_error: 218788.7812\n",
      "Epoch 22/50\n",
      "5000/5000 [==============================] - 4s 808us/sample - loss: 218502.0950 - mean_absolute_error: 218499.7188\n",
      "Epoch 23/50\n",
      "5000/5000 [==============================] - 4s 759us/sample - loss: 219218.1036 - mean_absolute_error: 219215.9688\n",
      "Epoch 24/50\n",
      "5000/5000 [==============================] - 4s 807us/sample - loss: 220312.7076 - mean_absolute_error: 220310.5312\n",
      "Epoch 25/50\n",
      "5000/5000 [==============================] - 5s 932us/sample - loss: 219644.0447 - mean_absolute_error: 219641.9062\n",
      "Epoch 26/50\n",
      "5000/5000 [==============================] - 3s 600us/sample - loss: 220911.8150 - mean_absolute_error: 220909.4844\n",
      "Epoch 27/50\n",
      "5000/5000 [==============================] - 3s 593us/sample - loss: 218572.0621 - mean_absolute_error: 218569.7031\n",
      "Epoch 28/50\n",
      "5000/5000 [==============================] - 3s 585us/sample - loss: 218918.7526 - mean_absolute_error: 218916.1406\n",
      "Epoch 29/50\n",
      "5000/5000 [==============================] - 3s 546us/sample - loss: 218700.8094 - mean_absolute_error: 218698.3438\n",
      "Epoch 30/50\n",
      "5000/5000 [==============================] - 3s 558us/sample - loss: 217421.3936 - mean_absolute_error: 217418.8594\n",
      "Epoch 31/50\n",
      "5000/5000 [==============================] - 3s 648us/sample - loss: 220538.0148 - mean_absolute_error: 220535.5469s - \n",
      "Epoch 32/50\n",
      "5000/5000 [==============================] - 3s 692us/sample - loss: 220664.2687 - mean_absolute_error: 220661.6875\n",
      "Epoch 33/50\n",
      "5000/5000 [==============================] - 4s 719us/sample - loss: 218920.4134 - mean_absolute_error: 218917.5625\n",
      "Epoch 34/50\n",
      "5000/5000 [==============================] - 4s 710us/sample - loss: 218140.3181 - mean_absolute_error: 218137.5000\n",
      "Epoch 35/50\n",
      "5000/5000 [==============================] - 3s 657us/sample - loss: 220291.9809 - mean_absolute_error: 220289.2344\n",
      "Epoch 36/50\n",
      "5000/5000 [==============================] - 3s 642us/sample - loss: 219607.6756 - mean_absolute_error: 219604.9688\n",
      "Epoch 37/50\n",
      "5000/5000 [==============================] - 3s 617us/sample - loss: 219675.9719 - mean_absolute_error: 219673.1875\n",
      "Epoch 38/50\n",
      "5000/5000 [==============================] - 3s 548us/sample - loss: 219750.5578 - mean_absolute_error: 219747.7812\n",
      "Epoch 39/50\n",
      "5000/5000 [==============================] - 3s 670us/sample - loss: 218365.6678 - mean_absolute_error: 218362.8594\n",
      "Epoch 40/50\n",
      "5000/5000 [==============================] - 4s 744us/sample - loss: 219447.3943 - mean_absolute_error: 219444.3281\n",
      "Epoch 41/50\n",
      "5000/5000 [==============================] - 3s 616us/sample - loss: 219769.0874 - mean_absolute_error: 219766.0938s - loss: 204698.3685 - mean_absolute_erro - ETA: 1s - loss: 218330.32\n",
      "Epoch 42/50\n",
      "5000/5000 [==============================] - 3s 554us/sample - loss: 217848.0775 - mean_absolute_error: 217845.1250\n",
      "Epoch 43/50\n",
      "5000/5000 [==============================] - 3s 565us/sample - loss: 219105.4331 - mean_absolute_error: 219102.2656\n",
      "Epoch 44/50\n",
      "5000/5000 [==============================] - 3s 641us/sample - loss: 220413.7301 - mean_absolute_error: 220410.5938\n",
      "Epoch 45/50\n",
      "5000/5000 [==============================] - 4s 714us/sample - loss: 217595.9011 - mean_absolute_error: 217592.8125\n",
      "Epoch 46/50\n",
      "5000/5000 [==============================] - 3s 601us/sample - loss: 218827.5958 - mean_absolute_error: 218824.2969\n",
      "Epoch 47/50\n",
      "5000/5000 [==============================] - 3s 681us/sample - loss: 220589.5160 - mean_absolute_error: 220586.1406\n",
      "Epoch 48/50\n",
      "5000/5000 [==============================] - 3s 620us/sample - loss: 219716.0911 - mean_absolute_error: 219712.5625\n",
      "Epoch 49/50\n",
      "5000/5000 [==============================] - 3s 643us/sample - loss: 219190.0067 - mean_absolute_error: 219186.3281s -\n",
      "Epoch 50/50\n",
      "5000/5000 [==============================] - 3s 691us/sample - loss: 219602.9628 - mean_absolute_error: 219599.2031\n",
      "2500/2500 [==============================] - 1s 292us/sample - loss: 195011.3180 - mean_absolute_error: 195007.5469\n",
      "Epoch 1/50\n",
      "5000/5000 [==============================] - 3s 658us/sample - loss: 313851.8777 - mean_absolute_error: 313851.0312\n",
      "Epoch 2/50\n",
      "5000/5000 [==============================] - 3s 603us/sample - loss: 229016.8147 - mean_absolute_error: 229015.4219\n",
      "Epoch 3/50\n",
      "5000/5000 [==============================] - 3s 609us/sample - loss: 228692.1681 - mean_absolute_error: 228690.6094\n",
      "Epoch 4/50\n",
      "5000/5000 [==============================] - 3s 583us/sample - loss: 226896.5007 - mean_absolute_error: 226894.7188\n",
      "Epoch 5/50\n",
      "5000/5000 [==============================] - 3s 645us/sample - loss: 219499.8582 - mean_absolute_error: 219498.1875\n",
      "Epoch 6/50\n",
      "5000/5000 [==============================] - 3s 578us/sample - loss: 220321.1980 - mean_absolute_error: 220319.3125\n",
      "Epoch 7/50\n",
      "5000/5000 [==============================] - 4s 778us/sample - loss: 219890.3752 - mean_absolute_error: 219888.4062\n",
      "Epoch 8/50\n",
      "5000/5000 [==============================] - 3s 657us/sample - loss: 221256.0342 - mean_absolute_error: 221254.0625\n",
      "Epoch 9/50\n",
      "5000/5000 [==============================] - 3s 637us/sample - loss: 216655.2625 - mean_absolute_error: 216653.2656\n",
      "Epoch 10/50\n",
      "5000/5000 [==============================] - 3s 587us/sample - loss: 216527.9482 - mean_absolute_error: 216525.9531\n",
      "Epoch 11/50\n",
      "5000/5000 [==============================] - 3s 602us/sample - loss: 220719.1015 - mean_absolute_error: 220716.8438\n",
      "Epoch 12/50\n",
      "5000/5000 [==============================] - 4s 752us/sample - loss: 216028.4567 - mean_absolute_error: 216026.2656\n",
      "Epoch 13/50\n",
      "5000/5000 [==============================] - 3s 579us/sample - loss: 217206.8068 - mean_absolute_error: 217204.4062s - loss: 222090.4464 - mean_absolute_e\n",
      "Epoch 14/50\n",
      "5000/5000 [==============================] - 3s 581us/sample - loss: 215678.7823 - mean_absolute_error: 215676.6406\n",
      "Epoch 15/50\n",
      "5000/5000 [==============================] - 3s 561us/sample - loss: 217315.3004 - mean_absolute_error: 217313.2031\n",
      "Epoch 16/50\n",
      "5000/5000 [==============================] - 3s 543us/sample - loss: 217506.7305 - mean_absolute_error: 217504.6719\n",
      "Epoch 17/50\n",
      "5000/5000 [==============================] - 3s 570us/sample - loss: 216347.5899 - mean_absolute_error: 216345.3125\n",
      "Epoch 18/50\n",
      "5000/5000 [==============================] - 3s 649us/sample - loss: 217636.8895 - mean_absolute_error: 217634.6406\n",
      "Epoch 19/50\n",
      "5000/5000 [==============================] - 3s 580us/sample - loss: 216918.1940 - mean_absolute_error: 216916.1250\n",
      "Epoch 20/50\n",
      "5000/5000 [==============================] - 3s 555us/sample - loss: 216792.2563 - mean_absolute_error: 216790.0469\n",
      "Epoch 21/50\n",
      "5000/5000 [==============================] - 3s 625us/sample - loss: 215516.9749 - mean_absolute_error: 215514.8750\n",
      "Epoch 22/50\n",
      "5000/5000 [==============================] - 3s 639us/sample - loss: 217329.2899 - mean_absolute_error: 217327.0000\n",
      "Epoch 23/50\n",
      "5000/5000 [==============================] - 3s 559us/sample - loss: 215676.3529 - mean_absolute_error: 215673.9375\n",
      "Epoch 24/50\n",
      "5000/5000 [==============================] - 3s 608us/sample - loss: 216172.4349 - mean_absolute_error: 216170.0312\n",
      "Epoch 25/50\n",
      "5000/5000 [==============================] - 3s 602us/sample - loss: 214337.0852 - mean_absolute_error: 214334.7500\n",
      "Epoch 26/50\n",
      "5000/5000 [==============================] - 3s 700us/sample - loss: 216102.1708 - mean_absolute_error: 216099.6562\n",
      "Epoch 27/50\n",
      "5000/5000 [==============================] - 3s 541us/sample - loss: 219230.6527 - mean_absolute_error: 219228.2656\n",
      "Epoch 28/50\n",
      "5000/5000 [==============================] - 3s 590us/sample - loss: 214567.5091 - mean_absolute_error: 214564.8906\n",
      "Epoch 29/50\n",
      "5000/5000 [==============================] - 3s 688us/sample - loss: 216247.5853 - mean_absolute_error: 216245.0938\n",
      "Epoch 30/50\n",
      "5000/5000 [==============================] - 3s 593us/sample - loss: 216684.4004 - mean_absolute_error: 216681.9844\n",
      "Epoch 31/50\n",
      "5000/5000 [==============================] - 3s 573us/sample - loss: 218245.4278 - mean_absolute_error: 218242.8906\n",
      "Epoch 32/50\n",
      "5000/5000 [==============================] - 3s 602us/sample - loss: 213221.2619 - mean_absolute_error: 213218.7188\n",
      "Epoch 33/50\n",
      "5000/5000 [==============================] - 3s 670us/sample - loss: 216826.9731 - mean_absolute_error: 216824.2969\n",
      "Epoch 34/50\n",
      "5000/5000 [==============================] - 3s 657us/sample - loss: 216171.3779 - mean_absolute_error: 216168.5312\n",
      "Epoch 35/50\n",
      "5000/5000 [==============================] - 3s 535us/sample - loss: 215031.1198 - mean_absolute_error: 215028.3281\n",
      "Epoch 36/50\n",
      "5000/5000 [==============================] - 3s 527us/sample - loss: 215551.1865 - mean_absolute_error: 215548.5000\n",
      "Epoch 37/50\n",
      "5000/5000 [==============================] - 3s 555us/sample - loss: 219012.0370 - mean_absolute_error: 219009.1719s - loss: 211720.2\n",
      "Epoch 38/50\n",
      "5000/5000 [==============================] - 3s 692us/sample - loss: 214686.8984 - mean_absolute_error: 214684.0000\n",
      "Epoch 39/50\n",
      "5000/5000 [==============================] - 3s 559us/sample - loss: 215366.1344 - mean_absolute_error: 215363.2500\n",
      "Epoch 40/50\n",
      "5000/5000 [==============================] - 3s 545us/sample - loss: 217035.0276 - mean_absolute_error: 217032.0938\n",
      "Epoch 41/50\n",
      "5000/5000 [==============================] - 3s 539us/sample - loss: 218631.4334 - mean_absolute_error: 218628.3594\n",
      "Epoch 42/50\n",
      "5000/5000 [==============================] - 3s 655us/sample - loss: 218698.4961 - mean_absolute_error: 218695.3750\n",
      "Epoch 43/50\n",
      "5000/5000 [==============================] - 3s 574us/sample - loss: 216293.2284 - mean_absolute_error: 216290.0000\n",
      "Epoch 44/50\n",
      "5000/5000 [==============================] - 3s 541us/sample - loss: 217748.8386 - mean_absolute_error: 217745.5938\n",
      "Epoch 45/50\n",
      "5000/5000 [==============================] - 3s 548us/sample - loss: 218863.6222 - mean_absolute_error: 218860.2812\n",
      "Epoch 46/50\n",
      "5000/5000 [==============================] - 3s 555us/sample - loss: 215721.7963 - mean_absolute_error: 215718.4219\n",
      "Epoch 47/50\n",
      "5000/5000 [==============================] - 3s 641us/sample - loss: 217820.8028 - mean_absolute_error: 217817.2969\n",
      "Epoch 48/50\n",
      "5000/5000 [==============================] - 3s 672us/sample - loss: 218433.1217 - mean_absolute_error: 218429.4688\n",
      "Epoch 49/50\n",
      "5000/5000 [==============================] - 4s 804us/sample - loss: 215870.7721 - mean_absolute_error: 215867.0781\n",
      "Epoch 50/50\n",
      "5000/5000 [==============================] - 4s 716us/sample - loss: 215790.2388 - mean_absolute_error: 215786.5781\n",
      "2500/2500 [==============================] - 1s 319us/sample - loss: 201456.7156 - mean_absolute_error: 201453.0000\n",
      "Epoch 1/50\n",
      "5000/5000 [==============================] - 3s 653us/sample - loss: 297202.0002 - mean_absolute_error: 297200.9062\n",
      "Epoch 2/50\n",
      "5000/5000 [==============================] - 3s 561us/sample - loss: 225742.4859 - mean_absolute_error: 225740.9531\n",
      "Epoch 3/50\n",
      "5000/5000 [==============================] - 3s 565us/sample - loss: 222024.7316 - mean_absolute_error: 222022.9844\n",
      "Epoch 4/50\n",
      "5000/5000 [==============================] - 3s 556us/sample - loss: 219569.0232 - mean_absolute_error: 219567.2031\n",
      "Epoch 5/50\n",
      "5000/5000 [==============================] - 3s 565us/sample - loss: 217380.5127 - mean_absolute_error: 217378.4531\n",
      "Epoch 6/50\n",
      "5000/5000 [==============================] - 3s 571us/sample - loss: 215719.2475 - mean_absolute_error: 215717.3750\n",
      "Epoch 7/50\n",
      "5000/5000 [==============================] - 3s 569us/sample - loss: 215578.7755 - mean_absolute_error: 215576.8125\n",
      "Epoch 8/50\n",
      "5000/5000 [==============================] - 3s 549us/sample - loss: 216418.6666 - mean_absolute_error: 216416.7188\n",
      "Epoch 9/50\n",
      "5000/5000 [==============================] - 3s 554us/sample - loss: 212906.6051 - mean_absolute_error: 212904.6250\n",
      "Epoch 10/50\n",
      "5000/5000 [==============================] - 3s 586us/sample - loss: 213924.0479 - mean_absolute_error: 213921.9062\n",
      "Epoch 11/50\n",
      "5000/5000 [==============================] - 3s 557us/sample - loss: 213530.5518 - mean_absolute_error: 213528.4688\n",
      "Epoch 12/50\n",
      "5000/5000 [==============================] - 3s 592us/sample - loss: 214334.6035 - mean_absolute_error: 214332.6875\n",
      "Epoch 13/50\n",
      "5000/5000 [==============================] - 3s 561us/sample - loss: 211738.2329 - mean_absolute_error: 211736.0312\n",
      "Epoch 14/50\n",
      "5000/5000 [==============================] - 3s 553us/sample - loss: 213986.0293 - mean_absolute_error: 213983.7500\n",
      "Epoch 15/50\n",
      "5000/5000 [==============================] - 3s 555us/sample - loss: 213030.6707 - mean_absolute_error: 213028.4688\n",
      "Epoch 16/50\n",
      "5000/5000 [==============================] - 3s 552us/sample - loss: 213840.7345 - mean_absolute_error: 213838.5781\n",
      "Epoch 17/50\n",
      "5000/5000 [==============================] - 3s 546us/sample - loss: 213084.1731 - mean_absolute_error: 213081.6719\n",
      "Epoch 18/50\n",
      "5000/5000 [==============================] - 3s 550us/sample - loss: 214394.6184 - mean_absolute_error: 214392.3125\n",
      "Epoch 19/50\n",
      "5000/5000 [==============================] - 3s 535us/sample - loss: 209434.9590 - mean_absolute_error: 209432.6875\n",
      "Epoch 20/50\n",
      "5000/5000 [==============================] - 3s 554us/sample - loss: 213031.5100 - mean_absolute_error: 213029.2969\n",
      "Epoch 21/50\n",
      "5000/5000 [==============================] - 3s 540us/sample - loss: 213703.9315 - mean_absolute_error: 213701.6406\n",
      "Epoch 22/50\n",
      "5000/5000 [==============================] - 3s 576us/sample - loss: 213922.8515 - mean_absolute_error: 213920.6094s - lo\n",
      "Epoch 23/50\n",
      "5000/5000 [==============================] - 3s 599us/sample - loss: 215244.3840 - mean_absolute_error: 215241.9062\n",
      "Epoch 24/50\n",
      "5000/5000 [==============================] - 3s 603us/sample - loss: 213559.6824 - mean_absolute_error: 213557.2656\n",
      "Epoch 25/50\n",
      "5000/5000 [==============================] - 3s 595us/sample - loss: 211974.2516 - mean_absolute_error: 211971.8594\n",
      "Epoch 26/50\n",
      "5000/5000 [==============================] - 3s 550us/sample - loss: 213984.7479 - mean_absolute_error: 213982.3125\n",
      "Epoch 27/50\n",
      "5000/5000 [==============================] - 3s 540us/sample - loss: 213061.5641 - mean_absolute_error: 213058.9531\n",
      "Epoch 28/50\n",
      "5000/5000 [==============================] - 3s 550us/sample - loss: 212382.3614 - mean_absolute_error: 212379.7031\n",
      "Epoch 29/50\n",
      "5000/5000 [==============================] - 3s 544us/sample - loss: 215515.4497 - mean_absolute_error: 215512.9375\n",
      "Epoch 30/50\n",
      "5000/5000 [==============================] - 3s 548us/sample - loss: 213521.9895 - mean_absolute_error: 213519.5625s - l\n",
      "Epoch 31/50\n",
      "5000/5000 [==============================] - 3s 547us/sample - loss: 213480.0696 - mean_absolute_error: 213477.4375\n",
      "Epoch 32/50\n",
      "5000/5000 [==============================] - 3s 583us/sample - loss: 214239.7795 - mean_absolute_error: 214237.2188\n",
      "Epoch 33/50\n",
      "5000/5000 [==============================] - 3s 595us/sample - loss: 213158.6929 - mean_absolute_error: 213155.8750\n",
      "Epoch 34/50\n",
      "5000/5000 [==============================] - 3s 612us/sample - loss: 212025.6547 - mean_absolute_error: 212022.8750\n",
      "Epoch 35/50\n",
      "5000/5000 [==============================] - 3s 584us/sample - loss: 210511.9189 - mean_absolute_error: 210509.2188\n",
      "Epoch 36/50\n",
      "5000/5000 [==============================] - 3s 561us/sample - loss: 214222.2999 - mean_absolute_error: 214219.4375\n",
      "Epoch 37/50\n",
      "5000/5000 [==============================] - 3s 574us/sample - loss: 213685.5078 - mean_absolute_error: 213682.5469\n",
      "Epoch 38/50\n",
      "5000/5000 [==============================] - 3s 549us/sample - loss: 213910.0654 - mean_absolute_error: 213907.1562\n",
      "Epoch 39/50\n",
      "5000/5000 [==============================] - 3s 566us/sample - loss: 213776.6231 - mean_absolute_error: 213773.6562\n",
      "Epoch 40/50\n",
      "5000/5000 [==============================] - 3s 553us/sample - loss: 214433.1656 - mean_absolute_error: 214430.1406\n",
      "Epoch 41/50\n",
      "5000/5000 [==============================] - 3s 545us/sample - loss: 213680.8403 - mean_absolute_error: 213677.5625\n",
      "Epoch 42/50\n",
      "5000/5000 [==============================] - 3s 564us/sample - loss: 214534.4236 - mean_absolute_error: 214531.3125\n",
      "Epoch 43/50\n",
      "5000/5000 [==============================] - 3s 568us/sample - loss: 213260.8655 - mean_absolute_error: 213257.5938s - loss: 213714.7936 - mean_absolute_error: 213711.5\n",
      "Epoch 44/50\n",
      "5000/5000 [==============================] - 3s 560us/sample - loss: 213262.1391 - mean_absolute_error: 213258.7344\n",
      "Epoch 45/50\n",
      "5000/5000 [==============================] - 3s 538us/sample - loss: 213315.7918 - mean_absolute_error: 213312.2969\n",
      "Epoch 46/50\n",
      "5000/5000 [==============================] - 3s 535us/sample - loss: 212605.3529 - mean_absolute_error: 212601.9844\n",
      "Epoch 47/50\n",
      "5000/5000 [==============================] - 3s 526us/sample - loss: 214198.6157 - mean_absolute_error: 214195.0781\n",
      "Epoch 48/50\n",
      "5000/5000 [==============================] - 3s 536us/sample - loss: 213050.0478 - mean_absolute_error: 213046.5000\n",
      "Epoch 49/50\n",
      "5000/5000 [==============================] - 3s 537us/sample - loss: 214215.6785 - mean_absolute_error: 214211.9375\n",
      "Epoch 50/50\n",
      "5000/5000 [==============================] - 3s 538us/sample - loss: 212107.6580 - mean_absolute_error: 212104.0312\n",
      "2500/2500 [==============================] - 1s 316us/sample - loss: 208601.3671 - mean_absolute_error: 208597.5938\n",
      "Epoch 1/50\n",
      "5000/5000 [==============================] - 3s 647us/sample - loss: 282573.1067 - mean_absolute_error: 282571.9375s - lo\n",
      "Epoch 2/50\n",
      "5000/5000 [==============================] - 3s 584us/sample - loss: 231223.4721 - mean_absolute_error: 231221.7812\n",
      "Epoch 3/50\n",
      "5000/5000 [==============================] - 3s 582us/sample - loss: 230966.1685 - mean_absolute_error: 230964.5000\n",
      "Epoch 4/50\n",
      "5000/5000 [==============================] - 3s 558us/sample - loss: 227869.1598 - mean_absolute_error: 227867.4219\n",
      "Epoch 5/50\n",
      "5000/5000 [==============================] - 3s 583us/sample - loss: 224749.2125 - mean_absolute_error: 224747.3125\n",
      "Epoch 6/50\n",
      "5000/5000 [==============================] - 3s 632us/sample - loss: 223575.0189 - mean_absolute_error: 223573.0625\n",
      "Epoch 7/50\n",
      "5000/5000 [==============================] - 3s 592us/sample - loss: 225164.9354 - mean_absolute_error: 225162.9531\n",
      "Epoch 8/50\n",
      "3620/5000 [====================>.........] - ETA: 0s - loss: 222945.8487 - mean_absolute_error: 222943.7656"
     ]
    },
    {
     "ename": "KeyboardInterrupt",
     "evalue": "",
     "output_type": "error",
     "traceback": [
      "\u001b[0;31m---------------------------------------------------------------------------\u001b[0m",
      "\u001b[0;31mKeyboardInterrupt\u001b[0m                         Traceback (most recent call last)",
      "\u001b[0;32m<ipython-input-35-788da1affcf2>\u001b[0m in \u001b[0;36m<module>\u001b[0;34m\u001b[0m\n\u001b[0;32m----> 1\u001b[0;31m \u001b[0mgridSearch_neural_network\u001b[0m\u001b[0;34m(\u001b[0m\u001b[0mX_train\u001b[0m\u001b[0;34m,\u001b[0m \u001b[0my_train\u001b[0m\u001b[0;34m)\u001b[0m\u001b[0;34m\u001b[0m\u001b[0;34m\u001b[0m\u001b[0m\n\u001b[0m",
      "\u001b[0;32m<ipython-input-34-dacf489b88ef>\u001b[0m in \u001b[0;36mgridSearch_neural_network\u001b[0;34m(X_train, y_train)\u001b[0m\n\u001b[1;32m     42\u001b[0m \u001b[0;34m\u001b[0m\u001b[0m\n\u001b[1;32m     43\u001b[0m     \u001b[0mgrid\u001b[0m \u001b[0;34m=\u001b[0m \u001b[0mGridSearchCV\u001b[0m\u001b[0;34m(\u001b[0m\u001b[0mestimator\u001b[0m\u001b[0;34m=\u001b[0m\u001b[0mestimator\u001b[0m\u001b[0;34m,\u001b[0m \u001b[0mparam_grid\u001b[0m\u001b[0;34m=\u001b[0m\u001b[0mparam_grid\u001b[0m\u001b[0;34m)\u001b[0m\u001b[0;34m\u001b[0m\u001b[0;34m\u001b[0m\u001b[0m\n\u001b[0;32m---> 44\u001b[0;31m     \u001b[0mgrid_result\u001b[0m \u001b[0;34m=\u001b[0m \u001b[0mgrid\u001b[0m\u001b[0;34m.\u001b[0m\u001b[0mfit\u001b[0m\u001b[0;34m(\u001b[0m\u001b[0mX_train\u001b[0m\u001b[0;34m,\u001b[0m \u001b[0my_train\u001b[0m\u001b[0;34m)\u001b[0m\u001b[0;34m\u001b[0m\u001b[0;34m\u001b[0m\u001b[0m\n\u001b[0m\u001b[1;32m     45\u001b[0m     \u001b[0;31m# summarize results\u001b[0m\u001b[0;34m\u001b[0m\u001b[0;34m\u001b[0m\u001b[0;34m\u001b[0m\u001b[0m\n\u001b[1;32m     46\u001b[0m     \u001b[0mprint\u001b[0m\u001b[0;34m(\u001b[0m\u001b[0;34m\"Best: %f using %s\"\u001b[0m \u001b[0;34m%\u001b[0m \u001b[0;34m(\u001b[0m\u001b[0mgrid_result\u001b[0m\u001b[0;34m.\u001b[0m\u001b[0mbest_score_\u001b[0m\u001b[0;34m,\u001b[0m \u001b[0mgrid_result\u001b[0m\u001b[0;34m.\u001b[0m\u001b[0mbest_params_\u001b[0m\u001b[0;34m)\u001b[0m\u001b[0;34m)\u001b[0m\u001b[0;34m\u001b[0m\u001b[0;34m\u001b[0m\u001b[0m\n",
      "\u001b[0;32m~/anaconda3/envs/U4-S1-NLP/lib/python3.7/site-packages/sklearn/model_selection/_search.py\u001b[0m in \u001b[0;36mfit\u001b[0;34m(self, X, y, groups, **fit_params)\u001b[0m\n\u001b[1;32m    685\u001b[0m                 \u001b[0;32mreturn\u001b[0m \u001b[0mresults\u001b[0m\u001b[0;34m\u001b[0m\u001b[0;34m\u001b[0m\u001b[0m\n\u001b[1;32m    686\u001b[0m \u001b[0;34m\u001b[0m\u001b[0m\n\u001b[0;32m--> 687\u001b[0;31m             \u001b[0mself\u001b[0m\u001b[0;34m.\u001b[0m\u001b[0m_run_search\u001b[0m\u001b[0;34m(\u001b[0m\u001b[0mevaluate_candidates\u001b[0m\u001b[0;34m)\u001b[0m\u001b[0;34m\u001b[0m\u001b[0;34m\u001b[0m\u001b[0m\n\u001b[0m\u001b[1;32m    688\u001b[0m \u001b[0;34m\u001b[0m\u001b[0m\n\u001b[1;32m    689\u001b[0m         \u001b[0;31m# For multi-metric evaluation, store the best_index_, best_params_ and\u001b[0m\u001b[0;34m\u001b[0m\u001b[0;34m\u001b[0m\u001b[0;34m\u001b[0m\u001b[0m\n",
      "\u001b[0;32m~/anaconda3/envs/U4-S1-NLP/lib/python3.7/site-packages/sklearn/model_selection/_search.py\u001b[0m in \u001b[0;36m_run_search\u001b[0;34m(self, evaluate_candidates)\u001b[0m\n\u001b[1;32m   1146\u001b[0m     \u001b[0;32mdef\u001b[0m \u001b[0m_run_search\u001b[0m\u001b[0;34m(\u001b[0m\u001b[0mself\u001b[0m\u001b[0;34m,\u001b[0m \u001b[0mevaluate_candidates\u001b[0m\u001b[0;34m)\u001b[0m\u001b[0;34m:\u001b[0m\u001b[0;34m\u001b[0m\u001b[0;34m\u001b[0m\u001b[0m\n\u001b[1;32m   1147\u001b[0m         \u001b[0;34m\"\"\"Search all candidates in param_grid\"\"\"\u001b[0m\u001b[0;34m\u001b[0m\u001b[0;34m\u001b[0m\u001b[0m\n\u001b[0;32m-> 1148\u001b[0;31m         \u001b[0mevaluate_candidates\u001b[0m\u001b[0;34m(\u001b[0m\u001b[0mParameterGrid\u001b[0m\u001b[0;34m(\u001b[0m\u001b[0mself\u001b[0m\u001b[0;34m.\u001b[0m\u001b[0mparam_grid\u001b[0m\u001b[0;34m)\u001b[0m\u001b[0;34m)\u001b[0m\u001b[0;34m\u001b[0m\u001b[0;34m\u001b[0m\u001b[0m\n\u001b[0m\u001b[1;32m   1149\u001b[0m \u001b[0;34m\u001b[0m\u001b[0m\n\u001b[1;32m   1150\u001b[0m \u001b[0;34m\u001b[0m\u001b[0m\n",
      "\u001b[0;32m~/anaconda3/envs/U4-S1-NLP/lib/python3.7/site-packages/sklearn/model_selection/_search.py\u001b[0m in \u001b[0;36mevaluate_candidates\u001b[0;34m(candidate_params)\u001b[0m\n\u001b[1;32m    664\u001b[0m                                \u001b[0;32mfor\u001b[0m \u001b[0mparameters\u001b[0m\u001b[0;34m,\u001b[0m \u001b[0;34m(\u001b[0m\u001b[0mtrain\u001b[0m\u001b[0;34m,\u001b[0m \u001b[0mtest\u001b[0m\u001b[0;34m)\u001b[0m\u001b[0;34m\u001b[0m\u001b[0;34m\u001b[0m\u001b[0m\n\u001b[1;32m    665\u001b[0m                                in product(candidate_params,\n\u001b[0;32m--> 666\u001b[0;31m                                           cv.split(X, y, groups)))\n\u001b[0m\u001b[1;32m    667\u001b[0m \u001b[0;34m\u001b[0m\u001b[0m\n\u001b[1;32m    668\u001b[0m                 \u001b[0;32mif\u001b[0m \u001b[0mlen\u001b[0m\u001b[0;34m(\u001b[0m\u001b[0mout\u001b[0m\u001b[0;34m)\u001b[0m \u001b[0;34m<\u001b[0m \u001b[0;36m1\u001b[0m\u001b[0;34m:\u001b[0m\u001b[0;34m\u001b[0m\u001b[0;34m\u001b[0m\u001b[0m\n",
      "\u001b[0;32m~/anaconda3/envs/U4-S1-NLP/lib/python3.7/site-packages/joblib/parallel.py\u001b[0m in \u001b[0;36m__call__\u001b[0;34m(self, iterable)\u001b[0m\n\u001b[1;32m    922\u001b[0m                 \u001b[0mself\u001b[0m\u001b[0;34m.\u001b[0m\u001b[0m_iterating\u001b[0m \u001b[0;34m=\u001b[0m \u001b[0mself\u001b[0m\u001b[0;34m.\u001b[0m\u001b[0m_original_iterator\u001b[0m \u001b[0;32mis\u001b[0m \u001b[0;32mnot\u001b[0m \u001b[0;32mNone\u001b[0m\u001b[0;34m\u001b[0m\u001b[0;34m\u001b[0m\u001b[0m\n\u001b[1;32m    923\u001b[0m \u001b[0;34m\u001b[0m\u001b[0m\n\u001b[0;32m--> 924\u001b[0;31m             \u001b[0;32mwhile\u001b[0m \u001b[0mself\u001b[0m\u001b[0;34m.\u001b[0m\u001b[0mdispatch_one_batch\u001b[0m\u001b[0;34m(\u001b[0m\u001b[0miterator\u001b[0m\u001b[0;34m)\u001b[0m\u001b[0;34m:\u001b[0m\u001b[0;34m\u001b[0m\u001b[0;34m\u001b[0m\u001b[0m\n\u001b[0m\u001b[1;32m    925\u001b[0m                 \u001b[0;32mpass\u001b[0m\u001b[0;34m\u001b[0m\u001b[0;34m\u001b[0m\u001b[0m\n\u001b[1;32m    926\u001b[0m \u001b[0;34m\u001b[0m\u001b[0m\n",
      "\u001b[0;32m~/anaconda3/envs/U4-S1-NLP/lib/python3.7/site-packages/joblib/parallel.py\u001b[0m in \u001b[0;36mdispatch_one_batch\u001b[0;34m(self, iterator)\u001b[0m\n\u001b[1;32m    757\u001b[0m                 \u001b[0;32mreturn\u001b[0m \u001b[0;32mFalse\u001b[0m\u001b[0;34m\u001b[0m\u001b[0;34m\u001b[0m\u001b[0m\n\u001b[1;32m    758\u001b[0m             \u001b[0;32melse\u001b[0m\u001b[0;34m:\u001b[0m\u001b[0;34m\u001b[0m\u001b[0;34m\u001b[0m\u001b[0m\n\u001b[0;32m--> 759\u001b[0;31m                 \u001b[0mself\u001b[0m\u001b[0;34m.\u001b[0m\u001b[0m_dispatch\u001b[0m\u001b[0;34m(\u001b[0m\u001b[0mtasks\u001b[0m\u001b[0;34m)\u001b[0m\u001b[0;34m\u001b[0m\u001b[0;34m\u001b[0m\u001b[0m\n\u001b[0m\u001b[1;32m    760\u001b[0m                 \u001b[0;32mreturn\u001b[0m \u001b[0;32mTrue\u001b[0m\u001b[0;34m\u001b[0m\u001b[0;34m\u001b[0m\u001b[0m\n\u001b[1;32m    761\u001b[0m \u001b[0;34m\u001b[0m\u001b[0m\n",
      "\u001b[0;32m~/anaconda3/envs/U4-S1-NLP/lib/python3.7/site-packages/joblib/parallel.py\u001b[0m in \u001b[0;36m_dispatch\u001b[0;34m(self, batch)\u001b[0m\n\u001b[1;32m    714\u001b[0m         \u001b[0;32mwith\u001b[0m \u001b[0mself\u001b[0m\u001b[0;34m.\u001b[0m\u001b[0m_lock\u001b[0m\u001b[0;34m:\u001b[0m\u001b[0;34m\u001b[0m\u001b[0;34m\u001b[0m\u001b[0m\n\u001b[1;32m    715\u001b[0m             \u001b[0mjob_idx\u001b[0m \u001b[0;34m=\u001b[0m \u001b[0mlen\u001b[0m\u001b[0;34m(\u001b[0m\u001b[0mself\u001b[0m\u001b[0;34m.\u001b[0m\u001b[0m_jobs\u001b[0m\u001b[0;34m)\u001b[0m\u001b[0;34m\u001b[0m\u001b[0;34m\u001b[0m\u001b[0m\n\u001b[0;32m--> 716\u001b[0;31m             \u001b[0mjob\u001b[0m \u001b[0;34m=\u001b[0m \u001b[0mself\u001b[0m\u001b[0;34m.\u001b[0m\u001b[0m_backend\u001b[0m\u001b[0;34m.\u001b[0m\u001b[0mapply_async\u001b[0m\u001b[0;34m(\u001b[0m\u001b[0mbatch\u001b[0m\u001b[0;34m,\u001b[0m \u001b[0mcallback\u001b[0m\u001b[0;34m=\u001b[0m\u001b[0mcb\u001b[0m\u001b[0;34m)\u001b[0m\u001b[0;34m\u001b[0m\u001b[0;34m\u001b[0m\u001b[0m\n\u001b[0m\u001b[1;32m    717\u001b[0m             \u001b[0;31m# A job can complete so quickly than its callback is\u001b[0m\u001b[0;34m\u001b[0m\u001b[0;34m\u001b[0m\u001b[0;34m\u001b[0m\u001b[0m\n\u001b[1;32m    718\u001b[0m             \u001b[0;31m# called before we get here, causing self._jobs to\u001b[0m\u001b[0;34m\u001b[0m\u001b[0;34m\u001b[0m\u001b[0;34m\u001b[0m\u001b[0m\n",
      "\u001b[0;32m~/anaconda3/envs/U4-S1-NLP/lib/python3.7/site-packages/joblib/_parallel_backends.py\u001b[0m in \u001b[0;36mapply_async\u001b[0;34m(self, func, callback)\u001b[0m\n\u001b[1;32m    180\u001b[0m     \u001b[0;32mdef\u001b[0m \u001b[0mapply_async\u001b[0m\u001b[0;34m(\u001b[0m\u001b[0mself\u001b[0m\u001b[0;34m,\u001b[0m \u001b[0mfunc\u001b[0m\u001b[0;34m,\u001b[0m \u001b[0mcallback\u001b[0m\u001b[0;34m=\u001b[0m\u001b[0;32mNone\u001b[0m\u001b[0;34m)\u001b[0m\u001b[0;34m:\u001b[0m\u001b[0;34m\u001b[0m\u001b[0;34m\u001b[0m\u001b[0m\n\u001b[1;32m    181\u001b[0m         \u001b[0;34m\"\"\"Schedule a func to be run\"\"\"\u001b[0m\u001b[0;34m\u001b[0m\u001b[0;34m\u001b[0m\u001b[0m\n\u001b[0;32m--> 182\u001b[0;31m         \u001b[0mresult\u001b[0m \u001b[0;34m=\u001b[0m \u001b[0mImmediateResult\u001b[0m\u001b[0;34m(\u001b[0m\u001b[0mfunc\u001b[0m\u001b[0;34m)\u001b[0m\u001b[0;34m\u001b[0m\u001b[0;34m\u001b[0m\u001b[0m\n\u001b[0m\u001b[1;32m    183\u001b[0m         \u001b[0;32mif\u001b[0m \u001b[0mcallback\u001b[0m\u001b[0;34m:\u001b[0m\u001b[0;34m\u001b[0m\u001b[0;34m\u001b[0m\u001b[0m\n\u001b[1;32m    184\u001b[0m             \u001b[0mcallback\u001b[0m\u001b[0;34m(\u001b[0m\u001b[0mresult\u001b[0m\u001b[0;34m)\u001b[0m\u001b[0;34m\u001b[0m\u001b[0;34m\u001b[0m\u001b[0m\n",
      "\u001b[0;32m~/anaconda3/envs/U4-S1-NLP/lib/python3.7/site-packages/joblib/_parallel_backends.py\u001b[0m in \u001b[0;36m__init__\u001b[0;34m(self, batch)\u001b[0m\n\u001b[1;32m    547\u001b[0m         \u001b[0;31m# Don't delay the application, to avoid keeping the input\u001b[0m\u001b[0;34m\u001b[0m\u001b[0;34m\u001b[0m\u001b[0;34m\u001b[0m\u001b[0m\n\u001b[1;32m    548\u001b[0m         \u001b[0;31m# arguments in memory\u001b[0m\u001b[0;34m\u001b[0m\u001b[0;34m\u001b[0m\u001b[0;34m\u001b[0m\u001b[0m\n\u001b[0;32m--> 549\u001b[0;31m         \u001b[0mself\u001b[0m\u001b[0;34m.\u001b[0m\u001b[0mresults\u001b[0m \u001b[0;34m=\u001b[0m \u001b[0mbatch\u001b[0m\u001b[0;34m(\u001b[0m\u001b[0;34m)\u001b[0m\u001b[0;34m\u001b[0m\u001b[0;34m\u001b[0m\u001b[0m\n\u001b[0m\u001b[1;32m    550\u001b[0m \u001b[0;34m\u001b[0m\u001b[0m\n\u001b[1;32m    551\u001b[0m     \u001b[0;32mdef\u001b[0m \u001b[0mget\u001b[0m\u001b[0;34m(\u001b[0m\u001b[0mself\u001b[0m\u001b[0;34m)\u001b[0m\u001b[0;34m:\u001b[0m\u001b[0;34m\u001b[0m\u001b[0;34m\u001b[0m\u001b[0m\n",
      "\u001b[0;32m~/anaconda3/envs/U4-S1-NLP/lib/python3.7/site-packages/joblib/parallel.py\u001b[0m in \u001b[0;36m__call__\u001b[0;34m(self)\u001b[0m\n\u001b[1;32m    223\u001b[0m         \u001b[0;32mwith\u001b[0m \u001b[0mparallel_backend\u001b[0m\u001b[0;34m(\u001b[0m\u001b[0mself\u001b[0m\u001b[0;34m.\u001b[0m\u001b[0m_backend\u001b[0m\u001b[0;34m,\u001b[0m \u001b[0mn_jobs\u001b[0m\u001b[0;34m=\u001b[0m\u001b[0mself\u001b[0m\u001b[0;34m.\u001b[0m\u001b[0m_n_jobs\u001b[0m\u001b[0;34m)\u001b[0m\u001b[0;34m:\u001b[0m\u001b[0;34m\u001b[0m\u001b[0;34m\u001b[0m\u001b[0m\n\u001b[1;32m    224\u001b[0m             return [func(*args, **kwargs)\n\u001b[0;32m--> 225\u001b[0;31m                     for func, args, kwargs in self.items]\n\u001b[0m\u001b[1;32m    226\u001b[0m \u001b[0;34m\u001b[0m\u001b[0m\n\u001b[1;32m    227\u001b[0m     \u001b[0;32mdef\u001b[0m \u001b[0m__len__\u001b[0m\u001b[0;34m(\u001b[0m\u001b[0mself\u001b[0m\u001b[0;34m)\u001b[0m\u001b[0;34m:\u001b[0m\u001b[0;34m\u001b[0m\u001b[0;34m\u001b[0m\u001b[0m\n",
      "\u001b[0;32m~/anaconda3/envs/U4-S1-NLP/lib/python3.7/site-packages/joblib/parallel.py\u001b[0m in \u001b[0;36m<listcomp>\u001b[0;34m(.0)\u001b[0m\n\u001b[1;32m    223\u001b[0m         \u001b[0;32mwith\u001b[0m \u001b[0mparallel_backend\u001b[0m\u001b[0;34m(\u001b[0m\u001b[0mself\u001b[0m\u001b[0;34m.\u001b[0m\u001b[0m_backend\u001b[0m\u001b[0;34m,\u001b[0m \u001b[0mn_jobs\u001b[0m\u001b[0;34m=\u001b[0m\u001b[0mself\u001b[0m\u001b[0;34m.\u001b[0m\u001b[0m_n_jobs\u001b[0m\u001b[0;34m)\u001b[0m\u001b[0;34m:\u001b[0m\u001b[0;34m\u001b[0m\u001b[0;34m\u001b[0m\u001b[0m\n\u001b[1;32m    224\u001b[0m             return [func(*args, **kwargs)\n\u001b[0;32m--> 225\u001b[0;31m                     for func, args, kwargs in self.items]\n\u001b[0m\u001b[1;32m    226\u001b[0m \u001b[0;34m\u001b[0m\u001b[0m\n\u001b[1;32m    227\u001b[0m     \u001b[0;32mdef\u001b[0m \u001b[0m__len__\u001b[0m\u001b[0;34m(\u001b[0m\u001b[0mself\u001b[0m\u001b[0;34m)\u001b[0m\u001b[0;34m:\u001b[0m\u001b[0;34m\u001b[0m\u001b[0;34m\u001b[0m\u001b[0m\n",
      "\u001b[0;32m~/anaconda3/envs/U4-S1-NLP/lib/python3.7/site-packages/sklearn/model_selection/_validation.py\u001b[0m in \u001b[0;36m_fit_and_score\u001b[0;34m(estimator, X, y, scorer, train, test, verbose, parameters, fit_params, return_train_score, return_parameters, return_n_test_samples, return_times, return_estimator, error_score)\u001b[0m\n\u001b[1;32m    512\u001b[0m             \u001b[0mestimator\u001b[0m\u001b[0;34m.\u001b[0m\u001b[0mfit\u001b[0m\u001b[0;34m(\u001b[0m\u001b[0mX_train\u001b[0m\u001b[0;34m,\u001b[0m \u001b[0;34m**\u001b[0m\u001b[0mfit_params\u001b[0m\u001b[0;34m)\u001b[0m\u001b[0;34m\u001b[0m\u001b[0;34m\u001b[0m\u001b[0m\n\u001b[1;32m    513\u001b[0m         \u001b[0;32melse\u001b[0m\u001b[0;34m:\u001b[0m\u001b[0;34m\u001b[0m\u001b[0;34m\u001b[0m\u001b[0m\n\u001b[0;32m--> 514\u001b[0;31m             \u001b[0mestimator\u001b[0m\u001b[0;34m.\u001b[0m\u001b[0mfit\u001b[0m\u001b[0;34m(\u001b[0m\u001b[0mX_train\u001b[0m\u001b[0;34m,\u001b[0m \u001b[0my_train\u001b[0m\u001b[0;34m,\u001b[0m \u001b[0;34m**\u001b[0m\u001b[0mfit_params\u001b[0m\u001b[0;34m)\u001b[0m\u001b[0;34m\u001b[0m\u001b[0;34m\u001b[0m\u001b[0m\n\u001b[0m\u001b[1;32m    515\u001b[0m \u001b[0;34m\u001b[0m\u001b[0m\n\u001b[1;32m    516\u001b[0m     \u001b[0;32mexcept\u001b[0m \u001b[0mException\u001b[0m \u001b[0;32mas\u001b[0m \u001b[0me\u001b[0m\u001b[0;34m:\u001b[0m\u001b[0;34m\u001b[0m\u001b[0;34m\u001b[0m\u001b[0m\n",
      "\u001b[0;32m~/anaconda3/envs/U4-S1-NLP/lib/python3.7/site-packages/tensorflow/python/keras/wrappers/scikit_learn.py\u001b[0m in \u001b[0;36mfit\u001b[0;34m(self, x, y, **kwargs)\u001b[0m\n\u001b[1;32m    164\u001b[0m     \u001b[0mfit_args\u001b[0m\u001b[0;34m.\u001b[0m\u001b[0mupdate\u001b[0m\u001b[0;34m(\u001b[0m\u001b[0mkwargs\u001b[0m\u001b[0;34m)\u001b[0m\u001b[0;34m\u001b[0m\u001b[0;34m\u001b[0m\u001b[0m\n\u001b[1;32m    165\u001b[0m \u001b[0;34m\u001b[0m\u001b[0m\n\u001b[0;32m--> 166\u001b[0;31m     \u001b[0mhistory\u001b[0m \u001b[0;34m=\u001b[0m \u001b[0mself\u001b[0m\u001b[0;34m.\u001b[0m\u001b[0mmodel\u001b[0m\u001b[0;34m.\u001b[0m\u001b[0mfit\u001b[0m\u001b[0;34m(\u001b[0m\u001b[0mx\u001b[0m\u001b[0;34m,\u001b[0m \u001b[0my\u001b[0m\u001b[0;34m,\u001b[0m \u001b[0;34m**\u001b[0m\u001b[0mfit_args\u001b[0m\u001b[0;34m)\u001b[0m\u001b[0;34m\u001b[0m\u001b[0;34m\u001b[0m\u001b[0m\n\u001b[0m\u001b[1;32m    167\u001b[0m \u001b[0;34m\u001b[0m\u001b[0m\n\u001b[1;32m    168\u001b[0m     \u001b[0;32mreturn\u001b[0m \u001b[0mhistory\u001b[0m\u001b[0;34m\u001b[0m\u001b[0;34m\u001b[0m\u001b[0m\n",
      "\u001b[0;32m~/anaconda3/envs/U4-S1-NLP/lib/python3.7/site-packages/tensorflow/python/keras/engine/training.py\u001b[0m in \u001b[0;36mfit\u001b[0;34m(self, x, y, batch_size, epochs, verbose, callbacks, validation_split, validation_data, shuffle, class_weight, sample_weight, initial_epoch, steps_per_epoch, validation_steps, validation_freq, max_queue_size, workers, use_multiprocessing, **kwargs)\u001b[0m\n\u001b[1;32m    778\u001b[0m           \u001b[0mvalidation_steps\u001b[0m\u001b[0;34m=\u001b[0m\u001b[0mvalidation_steps\u001b[0m\u001b[0;34m,\u001b[0m\u001b[0;34m\u001b[0m\u001b[0;34m\u001b[0m\u001b[0m\n\u001b[1;32m    779\u001b[0m           \u001b[0mvalidation_freq\u001b[0m\u001b[0;34m=\u001b[0m\u001b[0mvalidation_freq\u001b[0m\u001b[0;34m,\u001b[0m\u001b[0;34m\u001b[0m\u001b[0;34m\u001b[0m\u001b[0m\n\u001b[0;32m--> 780\u001b[0;31m           steps_name='steps_per_epoch')\n\u001b[0m\u001b[1;32m    781\u001b[0m \u001b[0;34m\u001b[0m\u001b[0m\n\u001b[1;32m    782\u001b[0m   def evaluate(self,\n",
      "\u001b[0;32m~/anaconda3/envs/U4-S1-NLP/lib/python3.7/site-packages/tensorflow/python/keras/engine/training_arrays.py\u001b[0m in \u001b[0;36mmodel_iteration\u001b[0;34m(model, inputs, targets, sample_weights, batch_size, epochs, verbose, callbacks, val_inputs, val_targets, val_sample_weights, shuffle, initial_epoch, steps_per_epoch, validation_steps, validation_freq, mode, validation_in_fit, prepared_feed_values_from_dataset, steps_name, **kwargs)\u001b[0m\n\u001b[1;32m    372\u001b[0m         \u001b[0;31m# Callbacks batch end.\u001b[0m\u001b[0;34m\u001b[0m\u001b[0;34m\u001b[0m\u001b[0;34m\u001b[0m\u001b[0m\n\u001b[1;32m    373\u001b[0m         \u001b[0mbatch_logs\u001b[0m \u001b[0;34m=\u001b[0m \u001b[0mcbks\u001b[0m\u001b[0;34m.\u001b[0m\u001b[0mmake_logs\u001b[0m\u001b[0;34m(\u001b[0m\u001b[0mmodel\u001b[0m\u001b[0;34m,\u001b[0m \u001b[0mbatch_logs\u001b[0m\u001b[0;34m,\u001b[0m \u001b[0mbatch_outs\u001b[0m\u001b[0;34m,\u001b[0m \u001b[0mmode\u001b[0m\u001b[0;34m)\u001b[0m\u001b[0;34m\u001b[0m\u001b[0;34m\u001b[0m\u001b[0m\n\u001b[0;32m--> 374\u001b[0;31m         \u001b[0mcallbacks\u001b[0m\u001b[0;34m.\u001b[0m\u001b[0m_call_batch_hook\u001b[0m\u001b[0;34m(\u001b[0m\u001b[0mmode\u001b[0m\u001b[0;34m,\u001b[0m \u001b[0;34m'end'\u001b[0m\u001b[0;34m,\u001b[0m \u001b[0mbatch_index\u001b[0m\u001b[0;34m,\u001b[0m \u001b[0mbatch_logs\u001b[0m\u001b[0;34m)\u001b[0m\u001b[0;34m\u001b[0m\u001b[0;34m\u001b[0m\u001b[0m\n\u001b[0m\u001b[1;32m    375\u001b[0m         \u001b[0mprogbar\u001b[0m\u001b[0;34m.\u001b[0m\u001b[0mon_batch_end\u001b[0m\u001b[0;34m(\u001b[0m\u001b[0mbatch_index\u001b[0m\u001b[0;34m,\u001b[0m \u001b[0mbatch_logs\u001b[0m\u001b[0;34m)\u001b[0m\u001b[0;34m\u001b[0m\u001b[0;34m\u001b[0m\u001b[0m\n\u001b[1;32m    376\u001b[0m \u001b[0;34m\u001b[0m\u001b[0m\n",
      "\u001b[0;32m~/anaconda3/envs/U4-S1-NLP/lib/python3.7/site-packages/tensorflow/python/keras/callbacks.py\u001b[0m in \u001b[0;36m_call_batch_hook\u001b[0;34m(self, mode, hook, batch, logs)\u001b[0m\n\u001b[1;32m    249\u001b[0m     \u001b[0mself\u001b[0m\u001b[0;34m.\u001b[0m\u001b[0m_delta_ts\u001b[0m\u001b[0;34m[\u001b[0m\u001b[0mhook_name\u001b[0m\u001b[0;34m]\u001b[0m\u001b[0;34m.\u001b[0m\u001b[0mappend\u001b[0m\u001b[0;34m(\u001b[0m\u001b[0mtime\u001b[0m\u001b[0;34m.\u001b[0m\u001b[0mtime\u001b[0m\u001b[0;34m(\u001b[0m\u001b[0;34m)\u001b[0m \u001b[0;34m-\u001b[0m \u001b[0mt_before_callbacks\u001b[0m\u001b[0;34m)\u001b[0m\u001b[0;34m\u001b[0m\u001b[0;34m\u001b[0m\u001b[0m\n\u001b[1;32m    250\u001b[0m \u001b[0;34m\u001b[0m\u001b[0m\n\u001b[0;32m--> 251\u001b[0;31m     \u001b[0mdelta_t_median\u001b[0m \u001b[0;34m=\u001b[0m \u001b[0mnp\u001b[0m\u001b[0;34m.\u001b[0m\u001b[0mmedian\u001b[0m\u001b[0;34m(\u001b[0m\u001b[0mself\u001b[0m\u001b[0;34m.\u001b[0m\u001b[0m_delta_ts\u001b[0m\u001b[0;34m[\u001b[0m\u001b[0mhook_name\u001b[0m\u001b[0;34m]\u001b[0m\u001b[0;34m)\u001b[0m\u001b[0;34m\u001b[0m\u001b[0;34m\u001b[0m\u001b[0m\n\u001b[0m\u001b[1;32m    252\u001b[0m     if (self._delta_t_batch > 0. and\n\u001b[1;32m    253\u001b[0m         delta_t_median > 0.95 * self._delta_t_batch and delta_t_median > 0.1):\n",
      "\u001b[0;32m~/anaconda3/envs/U4-S1-NLP/lib/python3.7/site-packages/numpy/lib/function_base.py\u001b[0m in \u001b[0;36mmedian\u001b[0;34m(a, axis, out, overwrite_input, keepdims)\u001b[0m\n\u001b[1;32m   3495\u001b[0m     \"\"\"\n\u001b[1;32m   3496\u001b[0m     r, k = _ureduce(a, func=_median, axis=axis, out=out,\n\u001b[0;32m-> 3497\u001b[0;31m                     overwrite_input=overwrite_input)\n\u001b[0m\u001b[1;32m   3498\u001b[0m     \u001b[0;32mif\u001b[0m \u001b[0mkeepdims\u001b[0m\u001b[0;34m:\u001b[0m\u001b[0;34m\u001b[0m\u001b[0;34m\u001b[0m\u001b[0m\n\u001b[1;32m   3499\u001b[0m         \u001b[0;32mreturn\u001b[0m \u001b[0mr\u001b[0m\u001b[0;34m.\u001b[0m\u001b[0mreshape\u001b[0m\u001b[0;34m(\u001b[0m\u001b[0mk\u001b[0m\u001b[0;34m)\u001b[0m\u001b[0;34m\u001b[0m\u001b[0;34m\u001b[0m\u001b[0m\n",
      "\u001b[0;32m~/anaconda3/envs/U4-S1-NLP/lib/python3.7/site-packages/numpy/lib/function_base.py\u001b[0m in \u001b[0;36m_ureduce\u001b[0;34m(a, func, **kwargs)\u001b[0m\n\u001b[1;32m   3403\u001b[0m         \u001b[0mkeepdim\u001b[0m \u001b[0;34m=\u001b[0m \u001b[0;34m(\u001b[0m\u001b[0;36m1\u001b[0m\u001b[0;34m,\u001b[0m\u001b[0;34m)\u001b[0m \u001b[0;34m*\u001b[0m \u001b[0ma\u001b[0m\u001b[0;34m.\u001b[0m\u001b[0mndim\u001b[0m\u001b[0;34m\u001b[0m\u001b[0;34m\u001b[0m\u001b[0m\n\u001b[1;32m   3404\u001b[0m \u001b[0;34m\u001b[0m\u001b[0m\n\u001b[0;32m-> 3405\u001b[0;31m     \u001b[0mr\u001b[0m \u001b[0;34m=\u001b[0m \u001b[0mfunc\u001b[0m\u001b[0;34m(\u001b[0m\u001b[0ma\u001b[0m\u001b[0;34m,\u001b[0m \u001b[0;34m**\u001b[0m\u001b[0mkwargs\u001b[0m\u001b[0;34m)\u001b[0m\u001b[0;34m\u001b[0m\u001b[0;34m\u001b[0m\u001b[0m\n\u001b[0m\u001b[1;32m   3406\u001b[0m     \u001b[0;32mreturn\u001b[0m \u001b[0mr\u001b[0m\u001b[0;34m,\u001b[0m \u001b[0mkeepdim\u001b[0m\u001b[0;34m\u001b[0m\u001b[0;34m\u001b[0m\u001b[0m\n\u001b[1;32m   3407\u001b[0m \u001b[0;34m\u001b[0m\u001b[0m\n",
      "\u001b[0;32m~/anaconda3/envs/U4-S1-NLP/lib/python3.7/site-packages/numpy/lib/function_base.py\u001b[0m in \u001b[0;36m_median\u001b[0;34m(a, axis, out, overwrite_input)\u001b[0m\n\u001b[1;32m   3508\u001b[0m     \u001b[0;31m# Set the partition indexes\u001b[0m\u001b[0;34m\u001b[0m\u001b[0;34m\u001b[0m\u001b[0;34m\u001b[0m\u001b[0m\n\u001b[1;32m   3509\u001b[0m     \u001b[0;32mif\u001b[0m \u001b[0maxis\u001b[0m \u001b[0;32mis\u001b[0m \u001b[0;32mNone\u001b[0m\u001b[0;34m:\u001b[0m\u001b[0;34m\u001b[0m\u001b[0;34m\u001b[0m\u001b[0m\n\u001b[0;32m-> 3510\u001b[0;31m         \u001b[0msz\u001b[0m \u001b[0;34m=\u001b[0m \u001b[0ma\u001b[0m\u001b[0;34m.\u001b[0m\u001b[0msize\u001b[0m\u001b[0;34m\u001b[0m\u001b[0;34m\u001b[0m\u001b[0m\n\u001b[0m\u001b[1;32m   3511\u001b[0m     \u001b[0;32melse\u001b[0m\u001b[0;34m:\u001b[0m\u001b[0;34m\u001b[0m\u001b[0;34m\u001b[0m\u001b[0m\n\u001b[1;32m   3512\u001b[0m         \u001b[0msz\u001b[0m \u001b[0;34m=\u001b[0m \u001b[0ma\u001b[0m\u001b[0;34m.\u001b[0m\u001b[0mshape\u001b[0m\u001b[0;34m[\u001b[0m\u001b[0maxis\u001b[0m\u001b[0;34m]\u001b[0m\u001b[0;34m\u001b[0m\u001b[0;34m\u001b[0m\u001b[0m\n",
      "\u001b[0;31mKeyboardInterrupt\u001b[0m: "
     ]
    }
   ],
   "source": [
    "gridSearch_neural_network(X_train, y_train)"
   ]
  },
  {
   "cell_type": "code",
   "execution_count": null,
   "metadata": {},
   "outputs": [],
   "source": [
    "# Pickle model."
   ]
  },
  {
   "cell_type": "code",
   "execution_count": null,
   "metadata": {
    "colab": {},
    "colab_type": "code",
    "id": "zjw9V6UARQCI"
   },
   "outputs": [],
   "source": [
    "import pickle"
   ]
  },
  {
   "cell_type": "code",
   "execution_count": null,
   "metadata": {
    "colab": {},
    "colab_type": "code",
    "id": "gPW59MTv73yv"
   },
   "outputs": [],
   "source": [
    "pickle.dump(nnmodel, open('zillow_nn_model.pkl','wb'))"
   ]
  }
 ],
 "metadata": {
  "accelerator": "TPU",
  "colab": {
   "name": "Neural_Network_Model.ipynb",
   "provenance": []
  },
  "kernelspec": {
   "display_name": "U4-S1-NLP (Python3)",
   "language": "python",
   "name": "u4-s1-nlp"
  },
  "language_info": {
   "codemirror_mode": {
    "name": "ipython",
    "version": 3
   },
   "file_extension": ".py",
   "mimetype": "text/x-python",
   "name": "python",
   "nbconvert_exporter": "python",
   "pygments_lexer": "ipython3",
   "version": "3.7.3"
  }
 },
 "nbformat": 4,
 "nbformat_minor": 4
}
